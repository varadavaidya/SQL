{
 "cells": [
  {
   "cell_type": "code",
   "execution_count": 14,
   "id": "eeeac4d9-05ee-4b39-9c6d-193ef7f53d1b",
   "metadata": {},
   "outputs": [
    {
     "name": "stdout",
     "output_type": "stream",
     "text": [
      "Defaulting to user installation because normal site-packages is not writeable\n",
      "Requirement already satisfied: pyspark in c:\\users\\varad\\appdata\\roaming\\python\\python312\\site-packages (3.5.5)\n",
      "Requirement already satisfied: py4j==0.10.9.7 in c:\\users\\varad\\appdata\\roaming\\python\\python312\\site-packages (from pyspark) (0.10.9.7)\n"
     ]
    }
   ],
   "source": [
    "!pip install pyspark"
   ]
  },
  {
   "cell_type": "code",
   "execution_count": 15,
   "id": "a09ac096-b112-43be-97fc-e279fe7ca88f",
   "metadata": {},
   "outputs": [],
   "source": [
    "from pyspark.sql import SparkSession"
   ]
  },
  {
   "cell_type": "code",
   "execution_count": 19,
   "id": "0ee5ea00-8a87-4b71-8e0e-c539870ee996",
   "metadata": {},
   "outputs": [],
   "source": [
    "spark=SparkSession.builder.appName('dataFrame').getOrCreate()"
   ]
  },
  {
   "cell_type": "code",
   "execution_count": 20,
   "id": "cb0beedb-9696-4cc8-9a25-7d39f4f6c042",
   "metadata": {},
   "outputs": [],
   "source": [
    "df_pyspark=spark.read.option('header','true').csv(r'C:\\Users\\varad\\OneDrive\\Desktop\\pyspark_data_2.csv',inferSchema=True)"
   ]
  },
  {
   "cell_type": "code",
   "execution_count": 21,
   "id": "8887e21f-556c-4d1b-9aec-b3ab66d93e2f",
   "metadata": {},
   "outputs": [
    {
     "name": "stdout",
     "output_type": "stream",
     "text": [
      "+--------------+----+----------+------+\n",
      "|          name| age|experience|salary|\n",
      "+--------------+----+----------+------+\n",
      "|        varada|  28|         2| 30000|\n",
      "|      vallabha|  33|         5| 50000|\n",
      "|       gayatri|  62|        34| 60000|\n",
      "|chandrashekhar|  72|        45| 70000|\n",
      "|      rakshita|  26|         5| 50000|\n",
      "|       sankhya|  24|         2| 60000|\n",
      "|          vish|  28|         3| 40000|\n",
      "|        akshay|  28|         7| 80000|\n",
      "|        adarsh|  28|         5| 80000|\n",
      "|       darshan|  28|         5| 30000|\n",
      "|       mahesh |NULL|      NULL| 40000|\n",
      "|          NULL|  39|      NULL|  NULL|\n",
      "|          NULL|  38|         6|  NULL|\n",
      "+--------------+----+----------+------+\n",
      "\n"
     ]
    }
   ],
   "source": [
    "df_pyspark.show()"
   ]
  },
  {
   "cell_type": "code",
   "execution_count": 24,
   "id": "8981cb35-b8c1-4e3d-bb20-b86b0417d173",
   "metadata": {},
   "outputs": [],
   "source": [
    "df_pyspark=df_pyspark.na.drop()"
   ]
  },
  {
   "cell_type": "code",
   "execution_count": 25,
   "id": "54e434db-c198-475b-8c73-6ae869063674",
   "metadata": {},
   "outputs": [
    {
     "name": "stdout",
     "output_type": "stream",
     "text": [
      "+--------------+---+----------+------+\n",
      "|          name|age|experience|salary|\n",
      "+--------------+---+----------+------+\n",
      "|        varada| 28|         2| 30000|\n",
      "|      vallabha| 33|         5| 50000|\n",
      "|       gayatri| 62|        34| 60000|\n",
      "|chandrashekhar| 72|        45| 70000|\n",
      "|      rakshita| 26|         5| 50000|\n",
      "|       sankhya| 24|         2| 60000|\n",
      "|          vish| 28|         3| 40000|\n",
      "|        akshay| 28|         7| 80000|\n",
      "|        adarsh| 28|         5| 80000|\n",
      "|       darshan| 28|         5| 30000|\n",
      "+--------------+---+----------+------+\n",
      "\n"
     ]
    }
   ],
   "source": [
    "df_pyspark.show()"
   ]
  },
  {
   "cell_type": "code",
   "execution_count": 27,
   "id": "17ceb9e6-d5a5-4ff2-ab99-6484c8273ced",
   "metadata": {},
   "outputs": [
    {
     "name": "stdout",
     "output_type": "stream",
     "text": [
      "+--------+---+----------+------+\n",
      "|    name|age|experience|salary|\n",
      "+--------+---+----------+------+\n",
      "|  varada| 28|         2| 30000|\n",
      "|vallabha| 33|         5| 50000|\n",
      "|rakshita| 26|         5| 50000|\n",
      "|    vish| 28|         3| 40000|\n",
      "| darshan| 28|         5| 30000|\n",
      "+--------+---+----------+------+\n",
      "\n"
     ]
    }
   ],
   "source": [
    "#filter operations\n",
    "\n",
    "df_pyspark.filter(\"salary<=50000\").show()"
   ]
  },
  {
   "cell_type": "code",
   "execution_count": 28,
   "id": "72a28707-ad7a-4060-a80c-e132530be937",
   "metadata": {},
   "outputs": [
    {
     "name": "stdout",
     "output_type": "stream",
     "text": [
      "+--------+---+\n",
      "|    name|age|\n",
      "+--------+---+\n",
      "|  varada| 28|\n",
      "|vallabha| 33|\n",
      "|rakshita| 26|\n",
      "|    vish| 28|\n",
      "| darshan| 28|\n",
      "+--------+---+\n",
      "\n"
     ]
    }
   ],
   "source": [
    "df_pyspark.filter('salary<=50000').select(['name','age']).show()"
   ]
  },
  {
   "cell_type": "code",
   "execution_count": 33,
   "id": "5260dc51-6cca-4ea6-8218-892c16a62ef6",
   "metadata": {},
   "outputs": [
    {
     "name": "stdout",
     "output_type": "stream",
     "text": [
      "+--------+---+----------+------+\n",
      "|    name|age|experience|salary|\n",
      "+--------+---+----------+------+\n",
      "|rakshita| 26|         5| 50000|\n",
      "+--------+---+----------+------+\n",
      "\n"
     ]
    }
   ],
   "source": [
    "df_pyspark.filter('salary<=50000').filter('age<28').show()"
   ]
  },
  {
   "cell_type": "code",
   "execution_count": 40,
   "id": "a5c2f055-8974-4a42-be02-f11f4f5ce7ff",
   "metadata": {},
   "outputs": [
    {
     "name": "stdout",
     "output_type": "stream",
     "text": [
      "+--------+---+\n",
      "|    name|age|\n",
      "+--------+---+\n",
      "|  varada| 28|\n",
      "|rakshita| 26|\n",
      "|    vish| 28|\n",
      "| darshan| 28|\n",
      "+--------+---+\n",
      "\n"
     ]
    }
   ],
   "source": [
    "df_pyspark.filter((df_pyspark['salary']<=50000 )& \n",
    "                  (df_pyspark['age']<=28)).select(['name','age']).show()"
   ]
  },
  {
   "cell_type": "code",
   "execution_count": 41,
   "id": "f95194ca-661e-4bc4-b6e8-d2abae84f394",
   "metadata": {},
   "outputs": [
    {
     "name": "stdout",
     "output_type": "stream",
     "text": [
      "+--------+---+\n",
      "|    name|age|\n",
      "+--------+---+\n",
      "|  varada| 28|\n",
      "|vallabha| 33|\n",
      "|rakshita| 26|\n",
      "| sankhya| 24|\n",
      "|    vish| 28|\n",
      "|  akshay| 28|\n",
      "|  adarsh| 28|\n",
      "| darshan| 28|\n",
      "+--------+---+\n",
      "\n"
     ]
    }
   ],
   "source": [
    "df_pyspark.filter((df_pyspark['salary']<=50000 ) |\n",
    "                  (df_pyspark['age']<=28)).select(['name','age']).show()"
   ]
  },
  {
   "cell_type": "code",
   "execution_count": 42,
   "id": "46a5810a-ecc7-4e47-ae62-05d485999d45",
   "metadata": {},
   "outputs": [
    {
     "name": "stdout",
     "output_type": "stream",
     "text": [
      "+--------------+---+\n",
      "|          name|age|\n",
      "+--------------+---+\n",
      "|       gayatri| 62|\n",
      "|chandrashekhar| 72|\n",
      "|       sankhya| 24|\n",
      "|        akshay| 28|\n",
      "|        adarsh| 28|\n",
      "+--------------+---+\n",
      "\n"
     ]
    }
   ],
   "source": [
    "# not operation\n",
    "\n",
    "df_pyspark.filter(~(df_pyspark['salary']<=50000) ).select(['name','age']).show()"
   ]
  },
  {
   "cell_type": "code",
   "execution_count": null,
   "id": "d0d8d5a7-37a7-45fd-9c24-1a4cd607a056",
   "metadata": {},
   "outputs": [],
   "source": []
  }
 ],
 "metadata": {
  "kernelspec": {
   "display_name": "Python 3 (ipykernel)",
   "language": "python",
   "name": "python3"
  },
  "language_info": {
   "codemirror_mode": {
    "name": "ipython",
    "version": 3
   },
   "file_extension": ".py",
   "mimetype": "text/x-python",
   "name": "python",
   "nbconvert_exporter": "python",
   "pygments_lexer": "ipython3",
   "version": "3.12.4"
  }
 },
 "nbformat": 4,
 "nbformat_minor": 5
}
