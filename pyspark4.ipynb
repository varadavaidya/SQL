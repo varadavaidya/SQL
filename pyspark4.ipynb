{
 "cells": [
  {
   "cell_type": "code",
   "execution_count": 27,
   "id": "6ed0a971-ffce-4b32-9173-feb1b8ddef98",
   "metadata": {},
   "outputs": [
    {
     "name": "stdout",
     "output_type": "stream",
     "text": [
      "Defaulting to user installation because normal site-packages is not writeable\n",
      "Requirement already satisfied: pyspark in c:\\users\\varad\\appdata\\roaming\\python\\python312\\site-packages (3.5.5)\n",
      "Requirement already satisfied: py4j==0.10.9.7 in c:\\users\\varad\\appdata\\roaming\\python\\python312\\site-packages (from pyspark) (0.10.9.7)\n"
     ]
    }
   ],
   "source": [
    "#group by and aggregate function\n",
    "\n",
    "!pip install pyspark"
   ]
  },
  {
   "cell_type": "code",
   "execution_count": 28,
   "id": "f58e51e9-825e-4958-aace-380ff7eeaac6",
   "metadata": {},
   "outputs": [],
   "source": [
    "from pyspark.sql import SparkSession"
   ]
  },
  {
   "cell_type": "code",
   "execution_count": 29,
   "id": "151120aa-a97c-4a34-b941-4203cc91638e",
   "metadata": {},
   "outputs": [],
   "source": [
    "spark=SparkSession.builder.appName('dataFrame').getOrCreate()"
   ]
  },
  {
   "cell_type": "code",
   "execution_count": 30,
   "id": "58ac9342-fa10-4522-b94b-6c3d72ffa7c4",
   "metadata": {},
   "outputs": [
    {
     "data": {
      "text/html": [
       "\n",
       "            <div>\n",
       "                <p><b>SparkSession - in-memory</b></p>\n",
       "                \n",
       "        <div>\n",
       "            <p><b>SparkContext</b></p>\n",
       "\n",
       "            <p><a href=\"http://LAPTOP-JGCTS8H5:4044\">Spark UI</a></p>\n",
       "\n",
       "            <dl>\n",
       "              <dt>Version</dt>\n",
       "                <dd><code>v3.5.5</code></dd>\n",
       "              <dt>Master</dt>\n",
       "                <dd><code>local[*]</code></dd>\n",
       "              <dt>AppName</dt>\n",
       "                <dd><code>dataFrame</code></dd>\n",
       "            </dl>\n",
       "        </div>\n",
       "        \n",
       "            </div>\n",
       "        "
      ],
      "text/plain": [
       "<pyspark.sql.session.SparkSession at 0x185c0cf3710>"
      ]
     },
     "execution_count": 30,
     "metadata": {},
     "output_type": "execute_result"
    }
   ],
   "source": [
    "spark"
   ]
  },
  {
   "cell_type": "code",
   "execution_count": 31,
   "id": "7a4d43d3-6a3b-44a9-bef7-480ea4ee80ec",
   "metadata": {},
   "outputs": [],
   "source": [
    "df_pyspark=spark.read.csv(r'C:\\Users\\varad\\OneDrive\\Desktop\\py_spark5.csv',inferSchema=True,header='true')"
   ]
  },
  {
   "cell_type": "code",
   "execution_count": 32,
   "id": "89299b98-dcd2-4b52-abcf-1e1ae717b1a2",
   "metadata": {},
   "outputs": [
    {
     "name": "stdout",
     "output_type": "stream",
     "text": [
      "+--------+----------+------+\n",
      "|    name|department|salary|\n",
      "+--------+----------+------+\n",
      "|  varada|        DS|100000|\n",
      "|vallabha|       SSE|120000|\n",
      "| gayatri|       Tch|130000|\n",
      "|  varada|        DS|150000|\n",
      "|  chandr|        JE| 90000|\n",
      "|vallabha|       SSE|100000|\n",
      "| gayatri|       Tch|125000|\n",
      "|vallabha|       SSE|205000|\n",
      "|  varada|        DS| 60000|\n",
      "|  chandr|        JE|100000|\n",
      "+--------+----------+------+\n",
      "\n"
     ]
    }
   ],
   "source": [
    "df_pyspark.show()"
   ]
  },
  {
   "cell_type": "code",
   "execution_count": 33,
   "id": "ab801c00-e8d3-4379-b573-7cc09f47b149",
   "metadata": {},
   "outputs": [
    {
     "name": "stdout",
     "output_type": "stream",
     "text": [
      "+--------+----------+------+\n",
      "|    name|department|salary|\n",
      "+--------+----------+------+\n",
      "|  varada|        DS|100000|\n",
      "|vallabha|       SSE|120000|\n",
      "| gayatri|       Tch|130000|\n",
      "|  varada|        DS|150000|\n",
      "|  chandr|        JE| 90000|\n",
      "|vallabha|       SSE|100000|\n",
      "| gayatri|       Tch|125000|\n",
      "|vallabha|       SSE|205000|\n",
      "|  varada|        DS| 60000|\n",
      "|  chandr|        JE|100000|\n",
      "+--------+----------+------+\n",
      "\n"
     ]
    }
   ],
   "source": [
    "df_pyspark.na.drop().show()"
   ]
  },
  {
   "cell_type": "code",
   "execution_count": 34,
   "id": "012fc092-2ea3-4d41-9d2d-e52af92f26f6",
   "metadata": {},
   "outputs": [
    {
     "name": "stdout",
     "output_type": "stream",
     "text": [
      "root\n",
      " |-- name: string (nullable = true)\n",
      " |-- department: string (nullable = true)\n",
      " |-- salary: integer (nullable = true)\n",
      "\n"
     ]
    }
   ],
   "source": [
    "df_pyspark.printSchema()"
   ]
  },
  {
   "cell_type": "code",
   "execution_count": 35,
   "id": "de9e05b3-cba2-442d-9d06-925d65cd6c92",
   "metadata": {},
   "outputs": [
    {
     "name": "stdout",
     "output_type": "stream",
     "text": [
      "+--------+-----------+\n",
      "|    name|sum(salary)|\n",
      "+--------+-----------+\n",
      "|  chandr|     190000|\n",
      "| gayatri|     255000|\n",
      "|vallabha|     425000|\n",
      "|  varada|     310000|\n",
      "+--------+-----------+\n",
      "\n"
     ]
    }
   ],
   "source": [
    "##group by\n",
    "\n",
    "df_pyspark.groupBy('name').sum('salary').show()"
   ]
  },
  {
   "cell_type": "code",
   "execution_count": 38,
   "id": "040a3b9d-26a5-4c10-a94e-935b527304b5",
   "metadata": {},
   "outputs": [
    {
     "name": "stdout",
     "output_type": "stream",
     "text": [
      "+----------+-----------+\n",
      "|department|sum(salary)|\n",
      "+----------+-----------+\n",
      "|       SSE|     425000|\n",
      "|       Tch|     255000|\n",
      "|        DS|     310000|\n",
      "|        JE|     190000|\n",
      "+----------+-----------+\n",
      "\n"
     ]
    }
   ],
   "source": [
    "df_pyspark.groupBy('department').sum().show()"
   ]
  },
  {
   "cell_type": "code",
   "execution_count": 39,
   "id": "d6ed9d85-4203-482a-b38a-3020ad4b64a9",
   "metadata": {},
   "outputs": [
    {
     "name": "stdout",
     "output_type": "stream",
     "text": [
      "+----------+------------------+\n",
      "|department|       avg(salary)|\n",
      "+----------+------------------+\n",
      "|       SSE|141666.66666666666|\n",
      "|       Tch|          127500.0|\n",
      "|        DS|103333.33333333333|\n",
      "|        JE|           95000.0|\n",
      "+----------+------------------+\n",
      "\n"
     ]
    }
   ],
   "source": [
    "df_pyspark.groupBy('department').mean().show()"
   ]
  },
  {
   "cell_type": "code",
   "execution_count": 65,
   "id": "643d0603-4691-49fc-98be-3c768670c9da",
   "metadata": {},
   "outputs": [],
   "source": [
    "#df_alias=df_pyspark.groupBy('department').count().select('count')"
   ]
  },
  {
   "cell_type": "code",
   "execution_count": 66,
   "id": "bcc866b4-c616-4bb9-a418-3b151578303b",
   "metadata": {},
   "outputs": [
    {
     "name": "stdout",
     "output_type": "stream",
     "text": [
      "+----------+\n",
      "|sum(count)|\n",
      "+----------+\n",
      "|        10|\n",
      "+----------+\n",
      "\n"
     ]
    }
   ],
   "source": [
    "#summing a column\n",
    "\n",
    "df_alias.agg({'count':'sum'}).show()"
   ]
  },
  {
   "cell_type": "code",
   "execution_count": 67,
   "id": "a5b01e8e-8ab3-4b22-977b-f9467e75a586",
   "metadata": {},
   "outputs": [
    {
     "name": "stdout",
     "output_type": "stream",
     "text": [
      "+-----------+\n",
      "|sum(salary)|\n",
      "+-----------+\n",
      "|    1180000|\n",
      "+-----------+\n",
      "\n"
     ]
    }
   ],
   "source": [
    "df_pyspark.agg({'salary':'sum'}).show()"
   ]
  },
  {
   "cell_type": "code",
   "execution_count": 69,
   "id": "423421d8-5b3f-4f6b-95c5-c22897217867",
   "metadata": {},
   "outputs": [
    {
     "name": "stdout",
     "output_type": "stream",
     "text": [
      "+----------+------------------+\n",
      "|department|       avg(salary)|\n",
      "+----------+------------------+\n",
      "|       SSE|141666.66666666666|\n",
      "|       Tch|          127500.0|\n",
      "|        DS|103333.33333333333|\n",
      "|        JE|           95000.0|\n",
      "+----------+------------------+\n",
      "\n"
     ]
    }
   ],
   "source": [
    "df_pyspark.groupBy('department').avg().show()"
   ]
  },
  {
   "cell_type": "code",
   "execution_count": null,
   "id": "154632bb-f746-4dd4-9b20-46bdcbec8ab6",
   "metadata": {},
   "outputs": [],
   "source": []
  }
 ],
 "metadata": {
  "kernelspec": {
   "display_name": "Python 3 (ipykernel)",
   "language": "python",
   "name": "python3"
  },
  "language_info": {
   "codemirror_mode": {
    "name": "ipython",
    "version": 3
   },
   "file_extension": ".py",
   "mimetype": "text/x-python",
   "name": "python",
   "nbconvert_exporter": "python",
   "pygments_lexer": "ipython3",
   "version": "3.12.4"
  }
 },
 "nbformat": 4,
 "nbformat_minor": 5
}
