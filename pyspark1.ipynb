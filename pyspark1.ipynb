{
 "cells": [
  {
   "cell_type": "code",
   "execution_count": 84,
   "id": "1cc6fc2a-d420-4c4e-8bdb-1fc6dc0249bf",
   "metadata": {},
   "outputs": [
    {
     "name": "stdout",
     "output_type": "stream",
     "text": [
      "Defaulting to user installation because normal site-packages is not writeable\n",
      "Requirement already satisfied: pyspark in c:\\users\\varad\\appdata\\roaming\\python\\python312\\site-packages (3.5.5)\n",
      "Requirement already satisfied: py4j==0.10.9.7 in c:\\users\\varad\\appdata\\roaming\\python\\python312\\site-packages (from pyspark) (0.10.9.7)\n"
     ]
    }
   ],
   "source": [
    "!pip install pyspark"
   ]
  },
  {
   "cell_type": "code",
   "execution_count": 85,
   "id": "24675520-448b-4e0c-9b73-5d02196b16f7",
   "metadata": {},
   "outputs": [],
   "source": [
    "from pyspark.sql import SparkSession"
   ]
  },
  {
   "cell_type": "code",
   "execution_count": 86,
   "id": "12b9dbc4-694d-4fc9-8c49-c6538b6396b1",
   "metadata": {},
   "outputs": [],
   "source": [
    "spark=SparkSession.builder.appName('dataFrame').getOrCreate()"
   ]
  },
  {
   "cell_type": "code",
   "execution_count": 87,
   "id": "bac391de-fb70-4d96-afe3-e9762e0b81be",
   "metadata": {},
   "outputs": [
    {
     "data": {
      "text/html": [
       "\n",
       "            <div>\n",
       "                <p><b>SparkSession - in-memory</b></p>\n",
       "                \n",
       "        <div>\n",
       "            <p><b>SparkContext</b></p>\n",
       "\n",
       "            <p><a href=\"http://LAPTOP-JGCTS8H5:4040\">Spark UI</a></p>\n",
       "\n",
       "            <dl>\n",
       "              <dt>Version</dt>\n",
       "                <dd><code>v3.5.5</code></dd>\n",
       "              <dt>Master</dt>\n",
       "                <dd><code>local[*]</code></dd>\n",
       "              <dt>AppName</dt>\n",
       "                <dd><code>dataFrame</code></dd>\n",
       "            </dl>\n",
       "        </div>\n",
       "        \n",
       "            </div>\n",
       "        "
      ],
      "text/plain": [
       "<pyspark.sql.session.SparkSession at 0x2de7f51fa40>"
      ]
     },
     "execution_count": 87,
     "metadata": {},
     "output_type": "execute_result"
    }
   ],
   "source": [
    "spark"
   ]
  },
  {
   "cell_type": "code",
   "execution_count": 88,
   "id": "a91694b4-ca16-4f24-b552-820c53e4c585",
   "metadata": {},
   "outputs": [],
   "source": [
    "##read the dataset\n",
    "df_pyspark=spark.read.option('header','true').csv(r'C:\\Users\\varad\\OneDrive\\Desktop\\pyspark_data_1.csv')"
   ]
  },
  {
   "cell_type": "code",
   "execution_count": 89,
   "id": "90b71c35-c287-4f87-aeb8-68d41d3e1842",
   "metadata": {},
   "outputs": [
    {
     "name": "stdout",
     "output_type": "stream",
     "text": [
      "root\n",
      " |-- name: string (nullable = true)\n",
      " |-- age: string (nullable = true)\n",
      " |-- experience: string (nullable = true)\n",
      "\n"
     ]
    }
   ],
   "source": [
    "df_pyspark.printSchema()\n",
    "\n",
    "#it is taking all attributes as strings though there are some integere inputs"
   ]
  },
  {
   "cell_type": "code",
   "execution_count": 90,
   "id": "e9c95b41-40c9-46f8-830d-fbf3ff4159ec",
   "metadata": {},
   "outputs": [],
   "source": [
    "df_pyspark=spark.read.option('header','true').csv(r'C:\\Users\\varad\\OneDrive\\Desktop\\pyspark_data_1.csv',inferSchema=True)"
   ]
  },
  {
   "cell_type": "code",
   "execution_count": 91,
   "id": "687152a6-0c09-4ae4-ac85-82e5adad923f",
   "metadata": {},
   "outputs": [
    {
     "name": "stdout",
     "output_type": "stream",
     "text": [
      "root\n",
      " |-- name: string (nullable = true)\n",
      " |-- age: integer (nullable = true)\n",
      " |-- experience: integer (nullable = true)\n",
      "\n"
     ]
    }
   ],
   "source": [
    "df_pyspark.printSchema()"
   ]
  },
  {
   "cell_type": "code",
   "execution_count": 92,
   "id": "ca7839f8-ecf9-42ae-b5ba-9fa2b00a9033",
   "metadata": {},
   "outputs": [],
   "source": [
    "df_pyspark=spark.read.csv(r'C:\\Users\\varad\\OneDrive\\Desktop\\pyspark_data_1.csv',header=True,inferSchema=True)"
   ]
  },
  {
   "cell_type": "code",
   "execution_count": 93,
   "id": "b0d58be0-275c-4eb7-abdd-f076acfa7878",
   "metadata": {},
   "outputs": [
    {
     "name": "stdout",
     "output_type": "stream",
     "text": [
      "root\n",
      " |-- name: string (nullable = true)\n",
      " |-- age: integer (nullable = true)\n",
      " |-- experience: integer (nullable = true)\n",
      "\n"
     ]
    }
   ],
   "source": [
    "df_pyspark.printSchema()  # to check datatype of attributes"
   ]
  },
  {
   "cell_type": "code",
   "execution_count": 94,
   "id": "5aeee845-85ea-42ce-a131-df4f2f7f43a5",
   "metadata": {},
   "outputs": [
    {
     "data": {
      "text/plain": [
       "pyspark.sql.dataframe.DataFrame"
      ]
     },
     "execution_count": 94,
     "metadata": {},
     "output_type": "execute_result"
    }
   ],
   "source": [
    "type(df_pyspark)"
   ]
  },
  {
   "cell_type": "code",
   "execution_count": 95,
   "id": "6ea14565-32ad-40d6-8a55-adb17af1fcbc",
   "metadata": {},
   "outputs": [
    {
     "data": {
      "text/plain": [
       "['name', 'age', 'experience']"
      ]
     },
     "execution_count": 95,
     "metadata": {},
     "output_type": "execute_result"
    }
   ],
   "source": [
    "df_pyspark.columns"
   ]
  },
  {
   "cell_type": "code",
   "execution_count": 96,
   "id": "1b57f226-5e68-46f9-99e9-99c8c85c4160",
   "metadata": {},
   "outputs": [
    {
     "data": {
      "text/plain": [
       "[Row(name='varada', age=28, experience=10),\n",
       " Row(name='vallabha', age=32, experience=15),\n",
       " Row(name='gayatri', age=64, experience=35)]"
      ]
     },
     "execution_count": 96,
     "metadata": {},
     "output_type": "execute_result"
    }
   ],
   "source": [
    "df_pyspark.head(3)"
   ]
  },
  {
   "cell_type": "code",
   "execution_count": 97,
   "id": "101f2848-df26-46bf-9166-d8a7e14bcc99",
   "metadata": {},
   "outputs": [
    {
     "name": "stdout",
     "output_type": "stream",
     "text": [
      "+--------+---+----------+\n",
      "|    name|age|experience|\n",
      "+--------+---+----------+\n",
      "|  varada| 28|        10|\n",
      "|vallabha| 32|        15|\n",
      "| gayatri| 64|        35|\n",
      "+--------+---+----------+\n",
      "\n"
     ]
    }
   ],
   "source": [
    "df_pyspark.show()  #selecting columns"
   ]
  },
  {
   "cell_type": "code",
   "execution_count": 98,
   "id": "67ff179e-756f-4938-ac01-4953a064ba48",
   "metadata": {},
   "outputs": [
    {
     "data": {
      "text/plain": [
       "DataFrame[name: string]"
      ]
     },
     "execution_count": 98,
     "metadata": {},
     "output_type": "execute_result"
    }
   ],
   "source": [
    "df_pyspark.select('name')"
   ]
  },
  {
   "cell_type": "code",
   "execution_count": 99,
   "id": "c020ba91-6d71-423f-bb13-7326454872c5",
   "metadata": {},
   "outputs": [
    {
     "name": "stdout",
     "output_type": "stream",
     "text": [
      "+--------+\n",
      "|    name|\n",
      "+--------+\n",
      "|  varada|\n",
      "|vallabha|\n",
      "| gayatri|\n",
      "+--------+\n",
      "\n"
     ]
    }
   ],
   "source": [
    "df_pyspark.select('name').show()"
   ]
  },
  {
   "cell_type": "code",
   "execution_count": 100,
   "id": "8cfa540f-b112-40f1-86bd-ee60661e7315",
   "metadata": {},
   "outputs": [
    {
     "data": {
      "text/plain": [
       "pyspark.sql.dataframe.DataFrame"
      ]
     },
     "execution_count": 100,
     "metadata": {},
     "output_type": "execute_result"
    }
   ],
   "source": [
    "type(df_pyspark.select('name'))"
   ]
  },
  {
   "cell_type": "code",
   "execution_count": 101,
   "id": "2a9e3185-daca-48d1-a342-7a0ef7221f23",
   "metadata": {},
   "outputs": [
    {
     "name": "stdout",
     "output_type": "stream",
     "text": [
      "+--------+----------+\n",
      "|    name|experience|\n",
      "+--------+----------+\n",
      "|  varada|        10|\n",
      "|vallabha|        15|\n",
      "| gayatri|        35|\n",
      "+--------+----------+\n",
      "\n"
     ]
    }
   ],
   "source": [
    "df_pyspark.select('name','experience').show()"
   ]
  },
  {
   "cell_type": "code",
   "execution_count": 102,
   "id": "68a7234d-c657-42b4-916e-4e5f0f24d964",
   "metadata": {},
   "outputs": [
    {
     "data": {
      "text/plain": [
       "Column<'Name'>"
      ]
     },
     "execution_count": 102,
     "metadata": {},
     "output_type": "execute_result"
    }
   ],
   "source": [
    "df_pyspark['Name']"
   ]
  },
  {
   "cell_type": "code",
   "execution_count": 103,
   "id": "91c55b87-d3fa-4d34-8526-80df88b53e83",
   "metadata": {},
   "outputs": [
    {
     "data": {
      "text/plain": [
       "[('name', 'string'), ('age', 'int'), ('experience', 'int')]"
      ]
     },
     "execution_count": 103,
     "metadata": {},
     "output_type": "execute_result"
    }
   ],
   "source": [
    "df_pyspark.dtypes"
   ]
  },
  {
   "cell_type": "code",
   "execution_count": 104,
   "id": "dba4f3b4-b9bf-4dc2-bb01-60998a45c220",
   "metadata": {},
   "outputs": [
    {
     "data": {
      "text/plain": [
       "<bound method DataFrame.describe of DataFrame[name: string, age: int, experience: int]>"
      ]
     },
     "execution_count": 104,
     "metadata": {},
     "output_type": "execute_result"
    }
   ],
   "source": [
    "df_pyspark.describe"
   ]
  },
  {
   "cell_type": "code",
   "execution_count": 105,
   "id": "abd2db47-1fc7-48cf-9ceb-54db21c20398",
   "metadata": {},
   "outputs": [
    {
     "name": "stdout",
     "output_type": "stream",
     "text": [
      "+-------+-------+------------------+------------------+\n",
      "|summary|   name|               age|        experience|\n",
      "+-------+-------+------------------+------------------+\n",
      "|  count|      3|                 3|                 3|\n",
      "|   mean|   NULL|41.333333333333336|              20.0|\n",
      "| stddev|   NULL| 19.73153144926499|13.228756555322953|\n",
      "|    min|gayatri|                28|                10|\n",
      "|    max| varada|                64|                35|\n",
      "+-------+-------+------------------+------------------+\n",
      "\n"
     ]
    }
   ],
   "source": [
    "df_pyspark.describe().show()"
   ]
  },
  {
   "cell_type": "code",
   "execution_count": 106,
   "id": "80c7d947-b5fe-4e78-be36-c65ec24eef3d",
   "metadata": {},
   "outputs": [
    {
     "data": {
      "text/plain": [
       "DataFrame[name: string, age: int, experience: int, experience after two years: int]"
      ]
     },
     "execution_count": 106,
     "metadata": {},
     "output_type": "execute_result"
    }
   ],
   "source": [
    "#adding columns in data frame\n",
    "\n",
    "df_pyspark.withColumn('experience after two years',df_pyspark['experience']+2)"
   ]
  },
  {
   "cell_type": "code",
   "execution_count": 107,
   "id": "76fc75bc-1ed6-48de-ac92-80b6fae83e32",
   "metadata": {},
   "outputs": [],
   "source": [
    "\n",
    "df_pyspark=df_pyspark.withColumn('experience after two years',df_pyspark['experience']+2)"
   ]
  },
  {
   "cell_type": "code",
   "execution_count": 108,
   "id": "6be426ae-09ec-47aa-bfd7-423a88796003",
   "metadata": {},
   "outputs": [
    {
     "name": "stdout",
     "output_type": "stream",
     "text": [
      "+--------+---+----------+--------------------------+\n",
      "|    name|age|experience|experience after two years|\n",
      "+--------+---+----------+--------------------------+\n",
      "|  varada| 28|        10|                        12|\n",
      "|vallabha| 32|        15|                        17|\n",
      "| gayatri| 64|        35|                        37|\n",
      "+--------+---+----------+--------------------------+\n",
      "\n"
     ]
    }
   ],
   "source": [
    "df_pyspark.show()"
   ]
  },
  {
   "cell_type": "code",
   "execution_count": 109,
   "id": "a7c7cf38-6907-4188-a896-dcda614853d6",
   "metadata": {},
   "outputs": [],
   "source": [
    "###Drop the columns \n",
    "\n",
    "df_pyspark=df_pyspark.drop('experience after two years')"
   ]
  },
  {
   "cell_type": "code",
   "execution_count": 110,
   "id": "46aef399-8a90-4119-b333-0ca64bdadbb7",
   "metadata": {},
   "outputs": [
    {
     "name": "stdout",
     "output_type": "stream",
     "text": [
      "+--------+---+----------+\n",
      "|    name|age|experience|\n",
      "+--------+---+----------+\n",
      "|  varada| 28|        10|\n",
      "|vallabha| 32|        15|\n",
      "| gayatri| 64|        35|\n",
      "+--------+---+----------+\n",
      "\n"
     ]
    }
   ],
   "source": [
    "df_pyspark.show()"
   ]
  },
  {
   "cell_type": "code",
   "execution_count": 111,
   "id": "d3bad7bd-8d5c-431e-8924-906e9b80e53b",
   "metadata": {},
   "outputs": [],
   "source": [
    "###rename the column \n",
    "\n",
    "df_pyspark=df_pyspark.withColumnRenamed('name','person_name')"
   ]
  },
  {
   "cell_type": "code",
   "execution_count": 112,
   "id": "e2ed4cfe-f177-4683-aed8-a6d5e773c220",
   "metadata": {},
   "outputs": [
    {
     "name": "stdout",
     "output_type": "stream",
     "text": [
      "+-----------+---+----------+\n",
      "|person_name|age|experience|\n",
      "+-----------+---+----------+\n",
      "|     varada| 28|        10|\n",
      "|   vallabha| 32|        15|\n",
      "|    gayatri| 64|        35|\n",
      "+-----------+---+----------+\n",
      "\n"
     ]
    }
   ],
   "source": [
    "df_pyspark.show()"
   ]
  }
 ],
 "metadata": {
  "kernelspec": {
   "display_name": "Python 3 (ipykernel)",
   "language": "python",
   "name": "python3"
  },
  "language_info": {
   "codemirror_mode": {
    "name": "ipython",
    "version": 3
   },
   "file_extension": ".py",
   "mimetype": "text/x-python",
   "name": "python",
   "nbconvert_exporter": "python",
   "pygments_lexer": "ipython3",
   "version": "3.12.4"
  }
 },
 "nbformat": 4,
 "nbformat_minor": 5
}
