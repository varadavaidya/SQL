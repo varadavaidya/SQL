{
 "cells": [
  {
   "cell_type": "code",
   "execution_count": 49,
   "id": "d33d3f9c-1d43-46f8-bb69-a61b37cf4371",
   "metadata": {},
   "outputs": [
    {
     "name": "stdout",
     "output_type": "stream",
     "text": [
      "Defaulting to user installation because normal site-packages is not writeable\n",
      "Requirement already satisfied: pyspark in c:\\users\\varad\\appdata\\roaming\\python\\python312\\site-packages (3.5.5)\n",
      "Requirement already satisfied: py4j==0.10.9.7 in c:\\users\\varad\\appdata\\roaming\\python\\python312\\site-packages (from pyspark) (0.10.9.7)\n"
     ]
    }
   ],
   "source": [
    "!pip install pyspark"
   ]
  },
  {
   "cell_type": "code",
   "execution_count": 50,
   "id": "1f13b851-0676-4e71-989f-721461ef0a21",
   "metadata": {},
   "outputs": [],
   "source": [
    "from pyspark.sql import SparkSession"
   ]
  },
  {
   "cell_type": "code",
   "execution_count": 51,
   "id": "734ef962-5a7b-43d5-8d8c-dc5e01271cdb",
   "metadata": {},
   "outputs": [],
   "source": [
    "spark=SparkSession.builder.appName('dataFrame').getOrCreate()\n"
   ]
  },
  {
   "cell_type": "code",
   "execution_count": 52,
   "id": "9a89fc20-d2cb-4ca2-8137-d7dc19b8ec76",
   "metadata": {},
   "outputs": [
    {
     "data": {
      "text/html": [
       "\n",
       "            <div>\n",
       "                <p><b>SparkSession - in-memory</b></p>\n",
       "                \n",
       "        <div>\n",
       "            <p><b>SparkContext</b></p>\n",
       "\n",
       "            <p><a href=\"http://LAPTOP-JGCTS8H5:4045\">Spark UI</a></p>\n",
       "\n",
       "            <dl>\n",
       "              <dt>Version</dt>\n",
       "                <dd><code>v3.5.5</code></dd>\n",
       "              <dt>Master</dt>\n",
       "                <dd><code>local[*]</code></dd>\n",
       "              <dt>AppName</dt>\n",
       "                <dd><code>dataFrame</code></dd>\n",
       "            </dl>\n",
       "        </div>\n",
       "        \n",
       "            </div>\n",
       "        "
      ],
      "text/plain": [
       "<pyspark.sql.session.SparkSession at 0x10aff347b30>"
      ]
     },
     "execution_count": 52,
     "metadata": {},
     "output_type": "execute_result"
    }
   ],
   "source": [
    "spark"
   ]
  },
  {
   "cell_type": "code",
   "execution_count": 53,
   "id": "e60c8c48-51b7-4902-a86c-4b56aed38138",
   "metadata": {},
   "outputs": [],
   "source": [
    "training=spark.read.option('header','true').csv(r'C:\\Users\\varad\\OneDrive\\Desktop\\pyspark_data_2.csv',inferSchema=True)"
   ]
  },
  {
   "cell_type": "code",
   "execution_count": 54,
   "id": "e5c3a2d5-7f71-4356-affb-16c37db176df",
   "metadata": {},
   "outputs": [
    {
     "name": "stdout",
     "output_type": "stream",
     "text": [
      "+--------------+----+----------+------+\n",
      "|          name| age|experience|salary|\n",
      "+--------------+----+----------+------+\n",
      "|        varada|  28|         2| 30000|\n",
      "|      vallabha|  33|         5| 50000|\n",
      "|       gayatri|  62|        34| 60000|\n",
      "|chandrashekhar|  72|        45| 70000|\n",
      "|      rakshita|  26|         5| 50000|\n",
      "|       sankhya|  24|         2| 60000|\n",
      "|          vish|  28|         3| 40000|\n",
      "|        akshay|  28|         7| 80000|\n",
      "|        adarsh|  28|         5| 80000|\n",
      "|       darshan|  28|         5| 30000|\n",
      "|       mahesh |NULL|      NULL| 40000|\n",
      "|          NULL|  39|      NULL|  NULL|\n",
      "|          NULL|  38|         6|  NULL|\n",
      "+--------------+----+----------+------+\n",
      "\n"
     ]
    }
   ],
   "source": [
    "training.show()"
   ]
  },
  {
   "cell_type": "code",
   "execution_count": 55,
   "id": "715bbb67-875b-4242-a856-4997f8def87c",
   "metadata": {},
   "outputs": [],
   "source": [
    "training=training.na.drop(how='any')"
   ]
  },
  {
   "cell_type": "code",
   "execution_count": 56,
   "id": "b8a8c9b3-c7c9-4369-a638-b600d73a9627",
   "metadata": {},
   "outputs": [
    {
     "data": {
      "text/plain": [
       "['name', 'age', 'experience', 'salary']"
      ]
     },
     "execution_count": 56,
     "metadata": {},
     "output_type": "execute_result"
    }
   ],
   "source": [
    "training.columns"
   ]
  },
  {
   "cell_type": "code",
   "execution_count": 57,
   "id": "45a622bb-e521-4a8a-96ea-f53acfa0dbb3",
   "metadata": {},
   "outputs": [],
   "source": [
    "from pyspark.ml.feature import VectorAssembler\n",
    "featureassembler=VectorAssembler(inputCols=['age','experience'],outputCol='independent features')"
   ]
  },
  {
   "cell_type": "code",
   "execution_count": 58,
   "id": "27d161da-3a61-410e-b2ef-5a1b1ceaadde",
   "metadata": {},
   "outputs": [],
   "source": [
    "output= featureassembler.transform(training)"
   ]
  },
  {
   "cell_type": "code",
   "execution_count": 59,
   "id": "10d98e09-cd27-46dd-8f14-768995b0a4f8",
   "metadata": {},
   "outputs": [
    {
     "name": "stdout",
     "output_type": "stream",
     "text": [
      "+--------------+---+----------+------+--------------------+\n",
      "|          name|age|experience|salary|independent features|\n",
      "+--------------+---+----------+------+--------------------+\n",
      "|        varada| 28|         2| 30000|          [28.0,2.0]|\n",
      "|      vallabha| 33|         5| 50000|          [33.0,5.0]|\n",
      "|       gayatri| 62|        34| 60000|         [62.0,34.0]|\n",
      "|chandrashekhar| 72|        45| 70000|         [72.0,45.0]|\n",
      "|      rakshita| 26|         5| 50000|          [26.0,5.0]|\n",
      "|       sankhya| 24|         2| 60000|          [24.0,2.0]|\n",
      "|          vish| 28|         3| 40000|          [28.0,3.0]|\n",
      "|        akshay| 28|         7| 80000|          [28.0,7.0]|\n",
      "|        adarsh| 28|         5| 80000|          [28.0,5.0]|\n",
      "|       darshan| 28|         5| 30000|          [28.0,5.0]|\n",
      "+--------------+---+----------+------+--------------------+\n",
      "\n"
     ]
    }
   ],
   "source": [
    "output.show()"
   ]
  },
  {
   "cell_type": "code",
   "execution_count": 60,
   "id": "9b4d67ef-fcde-43cc-a8d3-bab3a1ff388c",
   "metadata": {},
   "outputs": [],
   "source": [
    "final_data= output.select('independent features','salary')"
   ]
  },
  {
   "cell_type": "code",
   "execution_count": 61,
   "id": "a1231835-a140-4769-b6c9-d0d13e57a478",
   "metadata": {},
   "outputs": [],
   "source": [
    "from pyspark.ml.regression import LinearRegression\n",
    "\n",
    "#training test splitting\n",
    "train_data,test_data=final_data.randomSplit([0.7,0.3])\n",
    "regressor=LinearRegression(featuresCol='independent features',labelCol='salary')\n",
    "regressor=regressor.fit(train_data)"
   ]
  },
  {
   "cell_type": "code",
   "execution_count": 62,
   "id": "6370686d-b29a-4db9-887f-f1e9e7c38169",
   "metadata": {},
   "outputs": [
    {
     "data": {
      "text/plain": [
       "DenseVector([-3179.3226, 4005.3883])"
      ]
     },
     "execution_count": 62,
     "metadata": {},
     "output_type": "execute_result"
    }
   ],
   "source": [
    "regressor.coefficients"
   ]
  },
  {
   "cell_type": "code",
   "execution_count": 63,
   "id": "804d7e56-2f4e-41f7-a81c-177d9c758b93",
   "metadata": {},
   "outputs": [
    {
     "data": {
      "text/plain": [
       "120379.46472074854"
      ]
     },
     "execution_count": 63,
     "metadata": {},
     "output_type": "execute_result"
    }
   ],
   "source": [
    "regressor.intercept"
   ]
  },
  {
   "cell_type": "code",
   "execution_count": 64,
   "id": "ab868972-7c64-43ee-975f-543466752c0f",
   "metadata": {},
   "outputs": [],
   "source": [
    "#prediciton\n",
    "pred_results=regressor.evaluate(test_data)"
   ]
  },
  {
   "cell_type": "code",
   "execution_count": 66,
   "id": "2a817585-fe4c-4888-a169-b8c5136ba7c4",
   "metadata": {},
   "outputs": [
    {
     "name": "stdout",
     "output_type": "stream",
     "text": [
      "+--------------------+------+------------------+\n",
      "|independent features|salary|        prediction|\n",
      "+--------------------+------+------------------+\n",
      "|          [28.0,5.0]| 80000|51385.374689740784|\n",
      "+--------------------+------+------------------+\n",
      "\n"
     ]
    }
   ],
   "source": [
    "pred_results.predictions.show()"
   ]
  },
  {
   "cell_type": "code",
   "execution_count": null,
   "id": "6f6092d2-2eaf-474a-9095-4f9b4393d951",
   "metadata": {},
   "outputs": [],
   "source": []
  }
 ],
 "metadata": {
  "kernelspec": {
   "display_name": "Python 3 (ipykernel)",
   "language": "python",
   "name": "python3"
  },
  "language_info": {
   "codemirror_mode": {
    "name": "ipython",
    "version": 3
   },
   "file_extension": ".py",
   "mimetype": "text/x-python",
   "name": "python",
   "nbconvert_exporter": "python",
   "pygments_lexer": "ipython3",
   "version": "3.12.4"
  }
 },
 "nbformat": 4,
 "nbformat_minor": 5
}
