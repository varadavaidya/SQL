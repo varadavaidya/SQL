{
 "cells": [
  {
   "cell_type": "code",
   "execution_count": 47,
   "id": "96a7b04f-a661-4cbe-8584-6bb315ac03f3",
   "metadata": {},
   "outputs": [
    {
     "name": "stdout",
     "output_type": "stream",
     "text": [
      "Defaulting to user installation because normal site-packages is not writeable\n",
      "Requirement already satisfied: pyspark in c:\\users\\varad\\appdata\\roaming\\python\\python312\\site-packages (3.5.5)\n",
      "Requirement already satisfied: py4j==0.10.9.7 in c:\\users\\varad\\appdata\\roaming\\python\\python312\\site-packages (from pyspark) (0.10.9.7)\n"
     ]
    }
   ],
   "source": [
    "!pip install pyspark"
   ]
  },
  {
   "cell_type": "code",
   "execution_count": 48,
   "id": "f3831328-f2ec-4d83-bc51-b7776ef2faca",
   "metadata": {},
   "outputs": [],
   "source": [
    "from pyspark.sql import SparkSession"
   ]
  },
  {
   "cell_type": "code",
   "execution_count": 49,
   "id": "1743e044-f0ed-4413-8837-37a2404cbaa8",
   "metadata": {},
   "outputs": [],
   "source": [
    "spark=SparkSession.builder.appName('dataFrame').getOrCreate()\n"
   ]
  },
  {
   "cell_type": "code",
   "execution_count": 50,
   "id": "07d7c89f-a550-4856-b2a7-1662c4b1f1eb",
   "metadata": {},
   "outputs": [
    {
     "data": {
      "text/html": [
       "\n",
       "            <div>\n",
       "                <p><b>SparkSession - in-memory</b></p>\n",
       "                \n",
       "        <div>\n",
       "            <p><b>SparkContext</b></p>\n",
       "\n",
       "            <p><a href=\"http://LAPTOP-JGCTS8H5:4042\">Spark UI</a></p>\n",
       "\n",
       "            <dl>\n",
       "              <dt>Version</dt>\n",
       "                <dd><code>v3.5.5</code></dd>\n",
       "              <dt>Master</dt>\n",
       "                <dd><code>local[*]</code></dd>\n",
       "              <dt>AppName</dt>\n",
       "                <dd><code>dataFrame</code></dd>\n",
       "            </dl>\n",
       "        </div>\n",
       "        \n",
       "            </div>\n",
       "        "
      ],
      "text/plain": [
       "<pyspark.sql.session.SparkSession at 0x2697ff78680>"
      ]
     },
     "execution_count": 50,
     "metadata": {},
     "output_type": "execute_result"
    }
   ],
   "source": [
    "spark"
   ]
  },
  {
   "cell_type": "code",
   "execution_count": 51,
   "id": "ab7959c7-bf97-447a-9803-99b8dfd06d57",
   "metadata": {},
   "outputs": [],
   "source": [
    "df_pyspark=spark.read.option('header','true').csv(r'C:\\Users\\varad\\OneDrive\\Desktop\\pyspark_data_2.csv',inferSchema=True)"
   ]
  },
  {
   "cell_type": "code",
   "execution_count": 52,
   "id": "951c6933-ab68-4fc0-82e0-a319ad8d6c41",
   "metadata": {},
   "outputs": [
    {
     "name": "stdout",
     "output_type": "stream",
     "text": [
      "+--------------+----+----------+------+\n",
      "|          name| age|experience|salary|\n",
      "+--------------+----+----------+------+\n",
      "|        varada|  28|         2| 30000|\n",
      "|      vallabha|  33|         5| 50000|\n",
      "|       gayatri|  62|        34| 60000|\n",
      "|chandrashekhar|  72|        45| 70000|\n",
      "|      rakshita|  26|         5| 50000|\n",
      "|       sankhya|  24|         2| 60000|\n",
      "|          vish|  28|         3| 40000|\n",
      "|        akshay|  28|         7| 80000|\n",
      "|        adarsh|  28|         5| 80000|\n",
      "|       darshan|  28|         5| 30000|\n",
      "|       mahesh |NULL|      NULL| 40000|\n",
      "|          NULL|  39|      NULL|  NULL|\n",
      "|          NULL|  38|         6|  NULL|\n",
      "+--------------+----+----------+------+\n",
      "\n"
     ]
    }
   ],
   "source": [
    "df_pyspark.show()"
   ]
  },
  {
   "cell_type": "code",
   "execution_count": 53,
   "id": "fad2860f-12d4-4045-80bc-47403a638191",
   "metadata": {},
   "outputs": [
    {
     "name": "stdout",
     "output_type": "stream",
     "text": [
      "+----+----------+------+\n",
      "| age|experience|salary|\n",
      "+----+----------+------+\n",
      "|  28|         2| 30000|\n",
      "|  33|         5| 50000|\n",
      "|  62|        34| 60000|\n",
      "|  72|        45| 70000|\n",
      "|  26|         5| 50000|\n",
      "|  24|         2| 60000|\n",
      "|  28|         3| 40000|\n",
      "|  28|         7| 80000|\n",
      "|  28|         5| 80000|\n",
      "|  28|         5| 30000|\n",
      "|NULL|      NULL| 40000|\n",
      "|  39|      NULL|  NULL|\n",
      "|  38|         6|  NULL|\n",
      "+----+----------+------+\n",
      "\n"
     ]
    }
   ],
   "source": [
    "#drop column\n",
    "df_pyspark.drop('name').show()"
   ]
  },
  {
   "cell_type": "code",
   "execution_count": 54,
   "id": "a0cc554f-86e4-4cc3-9d9a-6854f81d5d0d",
   "metadata": {},
   "outputs": [
    {
     "name": "stdout",
     "output_type": "stream",
     "text": [
      "+--------------+----+----------+------+\n",
      "|          name| age|experience|salary|\n",
      "+--------------+----+----------+------+\n",
      "|        varada|  28|         2| 30000|\n",
      "|      vallabha|  33|         5| 50000|\n",
      "|       gayatri|  62|        34| 60000|\n",
      "|chandrashekhar|  72|        45| 70000|\n",
      "|      rakshita|  26|         5| 50000|\n",
      "|       sankhya|  24|         2| 60000|\n",
      "|          vish|  28|         3| 40000|\n",
      "|        akshay|  28|         7| 80000|\n",
      "|        adarsh|  28|         5| 80000|\n",
      "|       darshan|  28|         5| 30000|\n",
      "|       mahesh |NULL|      NULL| 40000|\n",
      "|          NULL|  39|      NULL|  NULL|\n",
      "|          NULL|  38|         6|  NULL|\n",
      "+--------------+----+----------+------+\n",
      "\n"
     ]
    }
   ],
   "source": [
    "df_pyspark.show()"
   ]
  },
  {
   "cell_type": "code",
   "execution_count": 55,
   "id": "2804b842-4755-4cc9-b66b-e693493fca50",
   "metadata": {},
   "outputs": [
    {
     "name": "stdout",
     "output_type": "stream",
     "text": [
      "+--------------+---+----------+------+\n",
      "|          name|age|experience|salary|\n",
      "+--------------+---+----------+------+\n",
      "|        varada| 28|         2| 30000|\n",
      "|      vallabha| 33|         5| 50000|\n",
      "|       gayatri| 62|        34| 60000|\n",
      "|chandrashekhar| 72|        45| 70000|\n",
      "|      rakshita| 26|         5| 50000|\n",
      "|       sankhya| 24|         2| 60000|\n",
      "|          vish| 28|         3| 40000|\n",
      "|        akshay| 28|         7| 80000|\n",
      "|        adarsh| 28|         5| 80000|\n",
      "|       darshan| 28|         5| 30000|\n",
      "+--------------+---+----------+------+\n",
      "\n"
     ]
    }
   ],
   "source": [
    "df_pyspark.na.drop().show()   #rows with null values are deleted when we use .na.drop"
   ]
  },
  {
   "cell_type": "code",
   "execution_count": 56,
   "id": "afa0db16-6409-47ee-b3a8-ce06e06bf425",
   "metadata": {},
   "outputs": [
    {
     "name": "stdout",
     "output_type": "stream",
     "text": [
      "+--------------+---+----------+------+\n",
      "|          name|age|experience|salary|\n",
      "+--------------+---+----------+------+\n",
      "|        varada| 28|         2| 30000|\n",
      "|      vallabha| 33|         5| 50000|\n",
      "|       gayatri| 62|        34| 60000|\n",
      "|chandrashekhar| 72|        45| 70000|\n",
      "|      rakshita| 26|         5| 50000|\n",
      "|       sankhya| 24|         2| 60000|\n",
      "|          vish| 28|         3| 40000|\n",
      "|        akshay| 28|         7| 80000|\n",
      "|        adarsh| 28|         5| 80000|\n",
      "|       darshan| 28|         5| 30000|\n",
      "+--------------+---+----------+------+\n",
      "\n"
     ]
    }
   ],
   "source": [
    "###any==how\n",
    "df_pyspark.na.drop(how='any').show()"
   ]
  },
  {
   "cell_type": "code",
   "execution_count": 57,
   "id": "3415bc9e-222b-4d6b-a532-68f3e8ddd704",
   "metadata": {},
   "outputs": [
    {
     "name": "stdout",
     "output_type": "stream",
     "text": [
      "+--------------+----+----------+------+\n",
      "|          name| age|experience|salary|\n",
      "+--------------+----+----------+------+\n",
      "|        varada|  28|         2| 30000|\n",
      "|      vallabha|  33|         5| 50000|\n",
      "|       gayatri|  62|        34| 60000|\n",
      "|chandrashekhar|  72|        45| 70000|\n",
      "|      rakshita|  26|         5| 50000|\n",
      "|       sankhya|  24|         2| 60000|\n",
      "|          vish|  28|         3| 40000|\n",
      "|        akshay|  28|         7| 80000|\n",
      "|        adarsh|  28|         5| 80000|\n",
      "|       darshan|  28|         5| 30000|\n",
      "|       mahesh |NULL|      NULL| 40000|\n",
      "|          NULL|  38|         6|  NULL|\n",
      "+--------------+----+----------+------+\n",
      "\n"
     ]
    }
   ],
   "source": [
    "#threshold...atmost threshold null values should be there\n",
    "df_pyspark.na.drop(how='any',thresh=2).show()"
   ]
  },
  {
   "cell_type": "code",
   "execution_count": 58,
   "id": "97db6cb2-e5ac-42d4-b0d9-460158d3ce5a",
   "metadata": {},
   "outputs": [
    {
     "name": "stdout",
     "output_type": "stream",
     "text": [
      "+--------------+---+----------+------+\n",
      "|          name|age|experience|salary|\n",
      "+--------------+---+----------+------+\n",
      "|        varada| 28|         2| 30000|\n",
      "|      vallabha| 33|         5| 50000|\n",
      "|       gayatri| 62|        34| 60000|\n",
      "|chandrashekhar| 72|        45| 70000|\n",
      "|      rakshita| 26|         5| 50000|\n",
      "|       sankhya| 24|         2| 60000|\n",
      "|          vish| 28|         3| 40000|\n",
      "|        akshay| 28|         7| 80000|\n",
      "|        adarsh| 28|         5| 80000|\n",
      "|       darshan| 28|         5| 30000|\n",
      "|          NULL| 38|         6|  NULL|\n",
      "+--------------+---+----------+------+\n",
      "\n"
     ]
    }
   ],
   "source": [
    "##subset\n",
    "\n",
    "df_pyspark.na.drop(how='any',subset=['experience']).show()"
   ]
  },
  {
   "cell_type": "code",
   "execution_count": 59,
   "id": "d3909d21-173c-404e-8e30-5d8c92bb6db4",
   "metadata": {},
   "outputs": [
    {
     "name": "stdout",
     "output_type": "stream",
     "text": [
      "+--------------+----+----------+------+\n",
      "|          name| age|experience|salary|\n",
      "+--------------+----+----------+------+\n",
      "|        varada|  28|         2| 30000|\n",
      "|      vallabha|  33|         5| 50000|\n",
      "|       gayatri|  62|        34| 60000|\n",
      "|chandrashekhar|  72|        45| 70000|\n",
      "|      rakshita|  26|         5| 50000|\n",
      "|       sankhya|  24|         2| 60000|\n",
      "|          vish|  28|         3| 40000|\n",
      "|        akshay|  28|         7| 80000|\n",
      "|        adarsh|  28|         5| 80000|\n",
      "|       darshan|  28|         5| 30000|\n",
      "|       mahesh |NULL|      NULL| 40000|\n",
      "+--------------+----+----------+------+\n",
      "\n"
     ]
    }
   ],
   "source": [
    "df_pyspark.na.drop(how='any',subset=['name']).show()"
   ]
  },
  {
   "cell_type": "code",
   "execution_count": 60,
   "id": "3e649b24-3ec7-4fdb-9e23-7fe98e3a5975",
   "metadata": {},
   "outputs": [
    {
     "name": "stdout",
     "output_type": "stream",
     "text": [
      "+--------------+----+----------+------+\n",
      "|          name| age|experience|salary|\n",
      "+--------------+----+----------+------+\n",
      "|        varada|  28|         2| 30000|\n",
      "|      vallabha|  33|         5| 50000|\n",
      "|       gayatri|  62|        34| 60000|\n",
      "|chandrashekhar|  72|        45| 70000|\n",
      "|      rakshita|  26|         5| 50000|\n",
      "|       sankhya|  24|         2| 60000|\n",
      "|          vish|  28|         3| 40000|\n",
      "|        akshay|  28|         7| 80000|\n",
      "|        adarsh|  28|         5| 80000|\n",
      "|       darshan|  28|         5| 30000|\n",
      "|       mahesh |NULL|      NULL| 40000|\n",
      "|missing values|  39|      NULL|  NULL|\n",
      "|missing values|  38|         6|  NULL|\n",
      "+--------------+----+----------+------+\n",
      "\n"
     ]
    }
   ],
   "source": [
    "##filling missing value \n",
    "\n",
    "df_pyspark.na.fill('missing values').show()"
   ]
  },
  {
   "cell_type": "code",
   "execution_count": 61,
   "id": "5f32b368-0579-4893-922c-23be2641629f",
   "metadata": {},
   "outputs": [
    {
     "name": "stdout",
     "output_type": "stream",
     "text": [
      "+--------------+---+----------+------+\n",
      "|          name|age|experience|salary|\n",
      "+--------------+---+----------+------+\n",
      "|        varada| 28|         2| 30000|\n",
      "|      vallabha| 33|         5| 50000|\n",
      "|       gayatri| 62|        34| 60000|\n",
      "|chandrashekhar| 72|        45| 70000|\n",
      "|      rakshita| 26|         5| 50000|\n",
      "|       sankhya| 24|         2| 60000|\n",
      "|          vish| 28|         3| 40000|\n",
      "|        akshay| 28|         7| 80000|\n",
      "|        adarsh| 28|         5| 80000|\n",
      "|       darshan| 28|         5| 30000|\n",
      "|       mahesh |  0|         0| 40000|\n",
      "|          NULL| 39|         0|  NULL|\n",
      "|          NULL| 38|         6|  NULL|\n",
      "+--------------+---+----------+------+\n",
      "\n"
     ]
    }
   ],
   "source": [
    "df_pyspark.na.fill(0,['experience','age']).show()"
   ]
  },
  {
   "cell_type": "code",
   "execution_count": 62,
   "id": "9f82394c-1236-4e10-a614-ca17359867d3",
   "metadata": {},
   "outputs": [
    {
     "name": "stdout",
     "output_type": "stream",
     "text": [
      "+--------------+----+----------+------+\n",
      "|          name| age|experience|salary|\n",
      "+--------------+----+----------+------+\n",
      "|        varada|  28|         2| 30000|\n",
      "|      vallabha|  33|         5| 50000|\n",
      "|       gayatri|  62|        34| 60000|\n",
      "|chandrashekhar|  72|        45| 70000|\n",
      "|      rakshita|  26|         5| 50000|\n",
      "|       sankhya|  24|         2| 60000|\n",
      "|          vish|  28|         3| 40000|\n",
      "|        akshay|  28|         7| 80000|\n",
      "|        adarsh|  28|         5| 80000|\n",
      "|       darshan|  28|         5| 30000|\n",
      "|       mahesh |NULL|      NULL| 40000|\n",
      "|          NULL|  39|      NULL|  NULL|\n",
      "|          NULL|  38|         6|  NULL|\n",
      "+--------------+----+----------+------+\n",
      "\n"
     ]
    }
   ],
   "source": [
    "df_pyspark.show()"
   ]
  },
  {
   "cell_type": "code",
   "execution_count": 63,
   "id": "e3cd4d48-032e-4cb3-a3ea-e762d0a7ca59",
   "metadata": {},
   "outputs": [],
   "source": [
    "from pyspark.ml.feature import Imputer"
   ]
  },
  {
   "cell_type": "code",
   "execution_count": 68,
   "id": "b45fe26b-88c9-46e4-a40c-fa33d3f829bf",
   "metadata": {},
   "outputs": [],
   "source": [
    "imputer = Imputer(\n",
    "    inputCols=['age','experience','salary'],\n",
    "    outputCols=[\"{}_imputed\".format(c) for c in ['age','experience','salary']]).setStrategy(\"mean\")"
   ]
  },
  {
   "cell_type": "code",
   "execution_count": 69,
   "id": "1b2de8b6-67fc-4830-a9dd-4e4ba6bfec4e",
   "metadata": {},
   "outputs": [
    {
     "name": "stdout",
     "output_type": "stream",
     "text": [
      "+--------------+----+----------+------+-----------+------------------+--------------+\n",
      "|          name| age|experience|salary|age_imputed|experience_imputed|salary_imputed|\n",
      "+--------------+----+----------+------+-----------+------------------+--------------+\n",
      "|        varada|  28|         2| 30000|         28|                 2|         30000|\n",
      "|      vallabha|  33|         5| 50000|         33|                 5|         50000|\n",
      "|       gayatri|  62|        34| 60000|         62|                34|         60000|\n",
      "|chandrashekhar|  72|        45| 70000|         72|                45|         70000|\n",
      "|      rakshita|  26|         5| 50000|         26|                 5|         50000|\n",
      "|       sankhya|  24|         2| 60000|         24|                 2|         60000|\n",
      "|          vish|  28|         3| 40000|         28|                 3|         40000|\n",
      "|        akshay|  28|         7| 80000|         28|                 7|         80000|\n",
      "|        adarsh|  28|         5| 80000|         28|                 5|         80000|\n",
      "|       darshan|  28|         5| 30000|         28|                 5|         30000|\n",
      "|       mahesh |NULL|      NULL| 40000|         36|                10|         40000|\n",
      "|          NULL|  39|      NULL|  NULL|         39|                10|         53636|\n",
      "|          NULL|  38|         6|  NULL|         38|                 6|         53636|\n",
      "+--------------+----+----------+------+-----------+------------------+--------------+\n",
      "\n"
     ]
    }
   ],
   "source": [
    "##add imputed columns to df\n",
    "imputer.fit(df_pyspark).transform(df_pyspark).show()"
   ]
  },
  {
   "cell_type": "code",
   "execution_count": 70,
   "id": "5c6e1093-83b4-4dda-9365-7f09e3a28ee4",
   "metadata": {},
   "outputs": [],
   "source": [
    "imputer = Imputer(\n",
    "    inputCols=['age','experience','salary'],\n",
    "    outputCols=[\"{}_imputed\".format(c) for c in ['age','experience','salary']]).setStrategy(\"median\")"
   ]
  },
  {
   "cell_type": "code",
   "execution_count": 71,
   "id": "7fe2a21e-72d7-40ef-8a3c-197ed6053ab7",
   "metadata": {},
   "outputs": [
    {
     "name": "stdout",
     "output_type": "stream",
     "text": [
      "+--------------+----+----------+------+-----------+------------------+--------------+\n",
      "|          name| age|experience|salary|age_imputed|experience_imputed|salary_imputed|\n",
      "+--------------+----+----------+------+-----------+------------------+--------------+\n",
      "|        varada|  28|         2| 30000|         28|                 2|         30000|\n",
      "|      vallabha|  33|         5| 50000|         33|                 5|         50000|\n",
      "|       gayatri|  62|        34| 60000|         62|                34|         60000|\n",
      "|chandrashekhar|  72|        45| 70000|         72|                45|         70000|\n",
      "|      rakshita|  26|         5| 50000|         26|                 5|         50000|\n",
      "|       sankhya|  24|         2| 60000|         24|                 2|         60000|\n",
      "|          vish|  28|         3| 40000|         28|                 3|         40000|\n",
      "|        akshay|  28|         7| 80000|         28|                 7|         80000|\n",
      "|        adarsh|  28|         5| 80000|         28|                 5|         80000|\n",
      "|       darshan|  28|         5| 30000|         28|                 5|         30000|\n",
      "|       mahesh |NULL|      NULL| 40000|         28|                 5|         40000|\n",
      "|          NULL|  39|      NULL|  NULL|         39|                 5|         50000|\n",
      "|          NULL|  38|         6|  NULL|         38|                 6|         50000|\n",
      "+--------------+----+----------+------+-----------+------------------+--------------+\n",
      "\n"
     ]
    }
   ],
   "source": [
    "imputer.fit(df_pyspark).transform(df_pyspark).show()"
   ]
  },
  {
   "cell_type": "code",
   "execution_count": 72,
   "id": "32d1af4b-6ece-4206-95ae-47351df2cf05",
   "metadata": {},
   "outputs": [],
   "source": [
    "imputer = Imputer(\n",
    "    inputCols=['age','experience','salary'],\n",
    "    outputCols=[\"{}_imputed\".format(c) for c in ['age','experience','salary']]).setStrategy(\"mode\")"
   ]
  },
  {
   "cell_type": "code",
   "execution_count": 73,
   "id": "deb5f5e7-d994-4455-a7bb-874ff99d9b11",
   "metadata": {},
   "outputs": [
    {
     "name": "stdout",
     "output_type": "stream",
     "text": [
      "+--------------+----+----------+------+-----------+------------------+--------------+\n",
      "|          name| age|experience|salary|age_imputed|experience_imputed|salary_imputed|\n",
      "+--------------+----+----------+------+-----------+------------------+--------------+\n",
      "|        varada|  28|         2| 30000|         28|                 2|         30000|\n",
      "|      vallabha|  33|         5| 50000|         33|                 5|         50000|\n",
      "|       gayatri|  62|        34| 60000|         62|                34|         60000|\n",
      "|chandrashekhar|  72|        45| 70000|         72|                45|         70000|\n",
      "|      rakshita|  26|         5| 50000|         26|                 5|         50000|\n",
      "|       sankhya|  24|         2| 60000|         24|                 2|         60000|\n",
      "|          vish|  28|         3| 40000|         28|                 3|         40000|\n",
      "|        akshay|  28|         7| 80000|         28|                 7|         80000|\n",
      "|        adarsh|  28|         5| 80000|         28|                 5|         80000|\n",
      "|       darshan|  28|         5| 30000|         28|                 5|         30000|\n",
      "|       mahesh |NULL|      NULL| 40000|         28|                 5|         40000|\n",
      "|          NULL|  39|      NULL|  NULL|         39|                 5|         30000|\n",
      "|          NULL|  38|         6|  NULL|         38|                 6|         30000|\n",
      "+--------------+----+----------+------+-----------+------------------+--------------+\n",
      "\n"
     ]
    }
   ],
   "source": [
    "imputer.fit(df_pyspark).transform(df_pyspark).show()"
   ]
  },
  {
   "cell_type": "code",
   "execution_count": null,
   "id": "595e716e-aafa-4271-b24d-aeea33b6bcf3",
   "metadata": {},
   "outputs": [],
   "source": []
  }
 ],
 "metadata": {
  "kernelspec": {
   "display_name": "Python 3 (ipykernel)",
   "language": "python",
   "name": "python3"
  },
  "language_info": {
   "codemirror_mode": {
    "name": "ipython",
    "version": 3
   },
   "file_extension": ".py",
   "mimetype": "text/x-python",
   "name": "python",
   "nbconvert_exporter": "python",
   "pygments_lexer": "ipython3",
   "version": "3.12.4"
  }
 },
 "nbformat": 4,
 "nbformat_minor": 5
}
